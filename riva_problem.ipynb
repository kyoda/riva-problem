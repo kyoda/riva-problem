{
 "cells": [
  {
   "cell_type": "code",
   "execution_count": 1,
   "metadata": {
    "collapsed": true
   },
   "outputs": [],
   "source": [
    "import pandas as pd"
   ]
  },
  {
   "cell_type": "code",
   "execution_count": 65,
   "metadata": {
    "collapsed": true
   },
   "outputs": [],
   "source": [
    "df = pd.read_csv('riva_problem.csv')"
   ]
  },
  {
   "cell_type": "code",
   "execution_count": 66,
   "metadata": {},
   "outputs": [
    {
     "data": {
      "text/html": [
       "<div>\n",
       "<style>\n",
       "    .dataframe thead tr:only-child th {\n",
       "        text-align: right;\n",
       "    }\n",
       "\n",
       "    .dataframe thead th {\n",
       "        text-align: left;\n",
       "    }\n",
       "\n",
       "    .dataframe tbody tr th {\n",
       "        vertical-align: top;\n",
       "    }\n",
       "</style>\n",
       "<table border=\"1\" class=\"dataframe\">\n",
       "  <thead>\n",
       "    <tr style=\"text-align: right;\">\n",
       "      <th></th>\n",
       "      <th>注文番号</th>\n",
       "      <th>ユーザーID</th>\n",
       "      <th>ユーザー名</th>\n",
       "      <th>型番</th>\n",
       "      <th>商品名</th>\n",
       "    </tr>\n",
       "  </thead>\n",
       "  <tbody>\n",
       "    <tr>\n",
       "      <th>0</th>\n",
       "      <td>702</td>\n",
       "      <td>293</td>\n",
       "      <td>あいう株式会社</td>\n",
       "      <td>S-68</td>\n",
       "      <td>AAA</td>\n",
       "    </tr>\n",
       "    <tr>\n",
       "      <th>1</th>\n",
       "      <td>703</td>\n",
       "      <td>204</td>\n",
       "      <td>かきく商事</td>\n",
       "      <td>S-61</td>\n",
       "      <td>BBB</td>\n",
       "    </tr>\n",
       "    <tr>\n",
       "      <th>2</th>\n",
       "      <td>730</td>\n",
       "      <td>295</td>\n",
       "      <td>かきく商事</td>\n",
       "      <td>S-68</td>\n",
       "      <td>AAA</td>\n",
       "    </tr>\n",
       "    <tr>\n",
       "      <th>3</th>\n",
       "      <td>740</td>\n",
       "      <td>295</td>\n",
       "      <td>かきく商事</td>\n",
       "      <td>S-46</td>\n",
       "      <td>CC</td>\n",
       "    </tr>\n",
       "    <tr>\n",
       "      <th>4</th>\n",
       "      <td>762</td>\n",
       "      <td>295</td>\n",
       "      <td>かきく商事</td>\n",
       "      <td>S-46</td>\n",
       "      <td>D</td>\n",
       "    </tr>\n",
       "    <tr>\n",
       "      <th>5</th>\n",
       "      <td>781</td>\n",
       "      <td>295</td>\n",
       "      <td>かきく商事</td>\n",
       "      <td>S-66</td>\n",
       "      <td>EEE</td>\n",
       "    </tr>\n",
       "    <tr>\n",
       "      <th>6</th>\n",
       "      <td>800</td>\n",
       "      <td>300</td>\n",
       "      <td>さしす有限会社</td>\n",
       "      <td>R-66</td>\n",
       "      <td>FFF</td>\n",
       "    </tr>\n",
       "    <tr>\n",
       "      <th>7</th>\n",
       "      <td>819</td>\n",
       "      <td>310</td>\n",
       "      <td>たちつ商事</td>\n",
       "      <td>R-69</td>\n",
       "      <td>GG</td>\n",
       "    </tr>\n",
       "    <tr>\n",
       "      <th>8</th>\n",
       "      <td>820</td>\n",
       "      <td>311</td>\n",
       "      <td>たちつ商事</td>\n",
       "      <td>S-68</td>\n",
       "      <td>AAA</td>\n",
       "    </tr>\n",
       "    <tr>\n",
       "      <th>9</th>\n",
       "      <td>821</td>\n",
       "      <td>312</td>\n",
       "      <td>たちつ商事</td>\n",
       "      <td>S-68</td>\n",
       "      <td>AAA</td>\n",
       "    </tr>\n",
       "    <tr>\n",
       "      <th>10</th>\n",
       "      <td>838</td>\n",
       "      <td>320</td>\n",
       "      <td>なにぬ株式会社</td>\n",
       "      <td>R695</td>\n",
       "      <td>H</td>\n",
       "    </tr>\n",
       "    <tr>\n",
       "      <th>11</th>\n",
       "      <td>857</td>\n",
       "      <td>320</td>\n",
       "      <td>なにぬ株式会社</td>\n",
       "      <td>RK12</td>\n",
       "      <td>I</td>\n",
       "    </tr>\n",
       "    <tr>\n",
       "      <th>12</th>\n",
       "      <td>876</td>\n",
       "      <td>320</td>\n",
       "      <td>なにぬ株式会社</td>\n",
       "      <td>RK11</td>\n",
       "      <td>J</td>\n",
       "    </tr>\n",
       "  </tbody>\n",
       "</table>\n",
       "</div>"
      ],
      "text/plain": [
       "    注文番号  ユーザーID    ユーザー名    型番  商品名\n",
       "0    702     293  あいう株式会社  S-68  AAA\n",
       "1    703     204    かきく商事  S-61  BBB\n",
       "2    730     295    かきく商事  S-68  AAA\n",
       "3    740     295    かきく商事  S-46   CC\n",
       "4    762     295    かきく商事  S-46    D\n",
       "5    781     295    かきく商事  S-66  EEE\n",
       "6    800     300  さしす有限会社  R-66  FFF\n",
       "7    819     310    たちつ商事  R-69   GG\n",
       "8    820     311    たちつ商事  S-68  AAA\n",
       "9    821     312    たちつ商事  S-68  AAA\n",
       "10   838     320  なにぬ株式会社  R695    H\n",
       "11   857     320  なにぬ株式会社  RK12    I\n",
       "12   876     320  なにぬ株式会社  RK11    J"
      ]
     },
     "execution_count": 66,
     "metadata": {},
     "output_type": "execute_result"
    }
   ],
   "source": [
    "df"
   ]
  },
  {
   "cell_type": "code",
   "execution_count": 108,
   "metadata": {},
   "outputs": [
    {
     "data": {
      "text/plain": [
       "array(['AAA', 'BBB', 'CC', 'D', 'EEE', 'FFF', 'GG', 'H', 'I', 'J'], dtype=object)"
      ]
     },
     "execution_count": 108,
     "metadata": {},
     "output_type": "execute_result"
    }
   ],
   "source": [
    "products = df['商品名'].unique()\n",
    "products"
   ]
  },
  {
   "cell_type": "code",
   "execution_count": 67,
   "metadata": {},
   "outputs": [
    {
     "data": {
      "text/plain": [
       "{'AAA': ['あいう株式会社', 'かきく商事', 'たちつ商事', 'たちつ商事']}"
      ]
     },
     "execution_count": 67,
     "metadata": {},
     "output_type": "execute_result"
    }
   ],
   "source": [
    "tmp['AAA'] = [ _ for _ in df[df['商品名'] == 'AAA']['ユーザー名']]\n",
    "tmp"
   ]
  },
  {
   "cell_type": "code",
   "execution_count": 84,
   "metadata": {},
   "outputs": [
    {
     "data": {
      "text/plain": [
       "たちつ商事      2\n",
       "かきく商事      1\n",
       "あいう株式会社    1\n",
       "Name: ユーザー名, dtype: int64"
      ]
     },
     "execution_count": 84,
     "metadata": {},
     "output_type": "execute_result"
    }
   ],
   "source": [
    "aaa = df[df['商品名'] == 'AAA']['ユーザー名'].value_counts()\n",
    "aaa"
   ]
  },
  {
   "cell_type": "code",
   "execution_count": 85,
   "metadata": {
    "scrolled": true
   },
   "outputs": [
    {
     "data": {
      "text/plain": [
       "array(['あいう株式会社', 'かきく商事', 'さしす有限会社', 'たちつ商事', 'なにぬ株式会社'], dtype=object)"
      ]
     },
     "execution_count": 85,
     "metadata": {},
     "output_type": "execute_result"
    }
   ],
   "source": [
    "headers = df['ユーザー名'].unique()\n",
    "headers"
   ]
  },
  {
   "cell_type": "code",
   "execution_count": 110,
   "metadata": {},
   "outputs": [],
   "source": [
    "lists = []\n",
    "for _ in headers:\n",
    "    lists.append(aaa[_] if _ in aaa else 0)"
   ]
  },
  {
   "cell_type": "code",
   "execution_count": 119,
   "metadata": {},
   "outputs": [
    {
     "data": {
      "text/plain": [
       "{'AAA': []}"
      ]
     },
     "execution_count": 119,
     "metadata": {},
     "output_type": "execute_result"
    }
   ],
   "source": [
    "lists"
   ]
  },
  {
   "cell_type": "code",
   "execution_count": 172,
   "metadata": {},
   "outputs": [
    {
     "data": {
      "text/html": [
       "<div>\n",
       "<style>\n",
       "    .dataframe thead tr:only-child th {\n",
       "        text-align: right;\n",
       "    }\n",
       "\n",
       "    .dataframe thead th {\n",
       "        text-align: left;\n",
       "    }\n",
       "\n",
       "    .dataframe tbody tr th {\n",
       "        vertical-align: top;\n",
       "    }\n",
       "</style>\n",
       "<table border=\"1\" class=\"dataframe\">\n",
       "  <thead>\n",
       "    <tr style=\"text-align: right;\">\n",
       "      <th></th>\n",
       "      <th>あいう株式会社</th>\n",
       "      <th>かきく商事</th>\n",
       "      <th>さしす有限会社</th>\n",
       "      <th>たちつ商事</th>\n",
       "      <th>なにぬ株式会社</th>\n",
       "    </tr>\n",
       "  </thead>\n",
       "  <tbody>\n",
       "    <tr>\n",
       "      <th>AAA</th>\n",
       "      <td>1</td>\n",
       "      <td>1</td>\n",
       "      <td>0</td>\n",
       "      <td>2</td>\n",
       "      <td>0</td>\n",
       "    </tr>\n",
       "    <tr>\n",
       "      <th>BBB</th>\n",
       "      <td>0</td>\n",
       "      <td>1</td>\n",
       "      <td>0</td>\n",
       "      <td>0</td>\n",
       "      <td>0</td>\n",
       "    </tr>\n",
       "    <tr>\n",
       "      <th>CC</th>\n",
       "      <td>0</td>\n",
       "      <td>1</td>\n",
       "      <td>0</td>\n",
       "      <td>0</td>\n",
       "      <td>0</td>\n",
       "    </tr>\n",
       "    <tr>\n",
       "      <th>D</th>\n",
       "      <td>0</td>\n",
       "      <td>1</td>\n",
       "      <td>0</td>\n",
       "      <td>0</td>\n",
       "      <td>0</td>\n",
       "    </tr>\n",
       "    <tr>\n",
       "      <th>EEE</th>\n",
       "      <td>0</td>\n",
       "      <td>1</td>\n",
       "      <td>0</td>\n",
       "      <td>0</td>\n",
       "      <td>0</td>\n",
       "    </tr>\n",
       "    <tr>\n",
       "      <th>FFF</th>\n",
       "      <td>0</td>\n",
       "      <td>0</td>\n",
       "      <td>1</td>\n",
       "      <td>0</td>\n",
       "      <td>0</td>\n",
       "    </tr>\n",
       "    <tr>\n",
       "      <th>GG</th>\n",
       "      <td>0</td>\n",
       "      <td>0</td>\n",
       "      <td>0</td>\n",
       "      <td>1</td>\n",
       "      <td>0</td>\n",
       "    </tr>\n",
       "    <tr>\n",
       "      <th>H</th>\n",
       "      <td>0</td>\n",
       "      <td>0</td>\n",
       "      <td>0</td>\n",
       "      <td>0</td>\n",
       "      <td>1</td>\n",
       "    </tr>\n",
       "    <tr>\n",
       "      <th>I</th>\n",
       "      <td>0</td>\n",
       "      <td>0</td>\n",
       "      <td>0</td>\n",
       "      <td>0</td>\n",
       "      <td>1</td>\n",
       "    </tr>\n",
       "    <tr>\n",
       "      <th>J</th>\n",
       "      <td>0</td>\n",
       "      <td>0</td>\n",
       "      <td>0</td>\n",
       "      <td>0</td>\n",
       "      <td>1</td>\n",
       "    </tr>\n",
       "  </tbody>\n",
       "</table>\n",
       "</div>"
      ],
      "text/plain": [
       "     あいう株式会社  かきく商事  さしす有限会社  たちつ商事  なにぬ株式会社\n",
       "AAA        1      1        0      2        0\n",
       "BBB        0      1        0      0        0\n",
       "CC         0      1        0      0        0\n",
       "D          0      1        0      0        0\n",
       "EEE        0      1        0      0        0\n",
       "FFF        0      0        1      0        0\n",
       "GG         0      0        0      1        0\n",
       "H          0      0        0      0        1\n",
       "I          0      0        0      0        1\n",
       "J          0      0        0      0        1"
      ]
     },
     "execution_count": 172,
     "metadata": {},
     "output_type": "execute_result"
    }
   ],
   "source": [
    "# まとめると\n",
    "\n",
    "import pandas as pd\n",
    "\n",
    "df = pd.read_csv('riva_problem.csv')\n",
    "products = df['商品名'].unique()\n",
    "corps = df['ユーザー名'].unique()\n",
    "\n",
    "lists = {}\n",
    "\n",
    "for c in corps:\n",
    "    lists[c] = []\n",
    "    for p in products:\n",
    "        tmp = df[df['ユーザー名'] == c]['商品名'].value_counts()\n",
    "        lists[c].append(tmp[p] if p in tmp else 0)\n",
    "\n",
    "r_df = pd.DataFrame(lists, df['商品名'].unique())\n",
    "r_df"
   ]
  },
  {
   "cell_type": "code",
   "execution_count": null,
   "metadata": {
    "collapsed": true
   },
   "outputs": [],
   "source": []
  }
 ],
 "metadata": {
  "kernelspec": {
   "display_name": "Python 3",
   "language": "python",
   "name": "python3"
  },
  "language_info": {
   "codemirror_mode": {
    "name": "ipython",
    "version": 3
   },
   "file_extension": ".py",
   "mimetype": "text/x-python",
   "name": "python",
   "nbconvert_exporter": "python",
   "pygments_lexer": "ipython3",
   "version": "3.6.1"
  }
 },
 "nbformat": 4,
 "nbformat_minor": 2
}
